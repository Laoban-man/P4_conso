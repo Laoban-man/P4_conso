{
 "cells": [
  {
   "cell_type": "markdown",
   "id": "4d0c4d20-cbb9-48eb-945e-57ab0ebadb4d",
   "metadata": {},
   "source": [
    "# Presentation du cas"
   ]
  },
  {
   "cell_type": "markdown",
   "id": "37492ee1-cee4-4ab4-8cd6-d819ff3b2522",
   "metadata": {},
   "source": [
    "L'objectif du cas est de prédire les émissions de CO2 et la consommation totale d’énergie de bâtiments absentes actuellement.\n",
    "\n",
    "Les contraintes proposees sont les caracteristiques des batiments (taille et usage des bâtiments, mention de travaux récents, date de construction..)\n",
    "\n",
    "Les donnees d'entrainement et de test utilisent des releves faits en 2015 et 2016.\n",
    "\n",
    "Les bases de donnees sont composees de deux types de formats:\n",
    "- JSON: les donnees descriptives qui renseignent les donnes brutes en format csv.\n",
    "- CSV: les donnees brutes qui serviront a l'analyse exploratoire, au cleaning ainsi qu'a la modelisation finale.\n",
    "\n",
    "La seconde partie consiste a explorer les donnees pre-traitees et selectionnees."
   ]
  },
  {
   "cell_type": "markdown",
   "id": "6fe671e4-dc08-4f5d-a44e-5b153cfee134",
   "metadata": {},
   "source": [
    "## Importations des librairies"
   ]
  },
  {
   "cell_type": "code",
   "execution_count": 4,
   "id": "31aa9d87-ffb9-4cf5-9cf0-dc71aa9f96ee",
   "metadata": {},
   "outputs": [],
   "source": [
    "# Standard libraries\n",
    "import pandas as pd\n",
    "import numpy as np\n",
    "import sys\n",
    "import os\n",
    "import glob\n",
    "import warnings\n",
    "import json\n",
    "import pickle\n",
    "\n",
    "# Graphic libraries\n",
    "import matplotlib.pyplot as plt\n",
    "import seaborn as sns\n",
    "\n",
    "# Machine learning libraries"
   ]
  },
  {
   "cell_type": "markdown",
   "id": "551b8d2f-befd-46c9-8b6c-3b2301c0196b",
   "metadata": {},
   "source": [
    "## Telechargements des donnees"
   ]
  },
  {
   "cell_type": "code",
   "execution_count": 5,
   "id": "085a838c-d14d-4fff-98ec-43fa7be86d2d",
   "metadata": {},
   "outputs": [],
   "source": [
    "with open(\"train_data.pkl\",\"rb\") as f:\n",
    "    [train_energy_data_x,train_energy_data_y],[train_ghg_data_x,train_ghg_data_y],[knn,mm]=pickle.load(f)\n",
    "    \n",
    "with open(\"test_data.pkl\",\"rb\") as f:\n",
    "    [test_energy_data_x,test_energy_data_y],[test_ghg_data_x,test_ghg_data_y]=pickle.load(f)"
   ]
  },
  {
   "cell_type": "markdown",
   "id": "44f16bd4-a865-4d52-9ccc-922886a05930",
   "metadata": {},
   "source": [
    "## Exploration des donnees selectionnees"
   ]
  },
  {
   "cell_type": "code",
   "execution_count": null,
   "id": "43d21e01-62a0-4add-b944-04d0db0eab38",
   "metadata": {},
   "outputs": [],
   "source": [
    "sns.pairplot(pd.concat([train_energy_data_x,train_energy_data_y]))"
   ]
  },
  {
   "cell_type": "code",
   "execution_count": null,
   "id": "b08944f9-2cbf-4215-8a29-6062a0a34a87",
   "metadata": {},
   "outputs": [],
   "source": [
    "sns.pairplot(pd.concat([train_ghg_data_x,train_ghg_data_y]))"
   ]
  },
  {
   "cell_type": "code",
   "execution_count": null,
   "id": "ee7f40fe-83af-4305-9656-2d9ed7de984e",
   "metadata": {},
   "outputs": [],
   "source": []
  }
 ],
 "metadata": {
  "kernelspec": {
   "display_name": "Python 3",
   "language": "python",
   "name": "python3"
  },
  "language_info": {
   "codemirror_mode": {
    "name": "ipython",
    "version": 3
   },
   "file_extension": ".py",
   "mimetype": "text/x-python",
   "name": "python",
   "nbconvert_exporter": "python",
   "pygments_lexer": "ipython3",
   "version": "3.7.6"
  }
 },
 "nbformat": 4,
 "nbformat_minor": 5
}
