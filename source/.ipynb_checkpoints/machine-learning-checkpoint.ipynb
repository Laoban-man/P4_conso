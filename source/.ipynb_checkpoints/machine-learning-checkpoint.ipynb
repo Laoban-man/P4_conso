{
 "cells": [
  {
   "cell_type": "markdown",
   "id": "4d0c4d20-cbb9-48eb-945e-57ab0ebadb4d",
   "metadata": {},
   "source": [
    "# Presentation du cas"
   ]
  },
  {
   "cell_type": "code",
   "execution_count": null,
   "id": "c78869e6-a684-4a47-bd4b-0215f8e53c61",
   "metadata": {},
   "outputs": [],
   "source": []
  },
  {
   "cell_type": "markdown",
   "id": "6fe671e4-dc08-4f5d-a44e-5b153cfee134",
   "metadata": {},
   "source": [
    "## Importations des librairies"
   ]
  },
  {
   "cell_type": "code",
   "execution_count": 14,
   "id": "31aa9d87-ffb9-4cf5-9cf0-dc71aa9f96ee",
   "metadata": {},
   "outputs": [],
   "source": [
    "# Standard libraries\n",
    "import pandas as pd\n",
    "import numpy as np\n",
    "import sys\n",
    "import os\n",
    "import glob\n",
    "import warnings\n",
    "import json\n",
    "\n",
    "# Graphic libraries\n",
    "import matplotlib.pyplot as plt\n",
    "import seaborn as sns\n",
    "\n",
    "# Machine learning libraries"
   ]
  }
 ],
 "metadata": {
  "kernelspec": {
   "display_name": "Python 3",
   "language": "python",
   "name": "python3"
  },
  "language_info": {
   "codemirror_mode": {
    "name": "ipython",
    "version": 3
   },
   "file_extension": ".py",
   "mimetype": "text/x-python",
   "name": "python",
   "nbconvert_exporter": "python",
   "pygments_lexer": "ipython3",
   "version": "3.7.6"
  }
 },
 "nbformat": 4,
 "nbformat_minor": 5
}
