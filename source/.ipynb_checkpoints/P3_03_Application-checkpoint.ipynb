{
 "cells": [
  {
   "cell_type": "markdown",
   "id": "aacd95ea-2c2e-405a-b2bc-52001997c1b6",
   "metadata": {},
   "source": [
    "# Presentation du cas"
   ]
  },
  {
   "cell_type": "markdown",
   "id": "dd69ee36-61e9-4315-9675-81db0f7793b5",
   "metadata": {},
   "source": [
    "L'objectif du cas est de manipuler une base de données de telle sorte à pouvoir alimenter une application dans le domaine de la santé alimentaire. En l'occurence, l'application proposée récupère les caractéristiques d'un article scanné et propose des alternatives plus saines, en fonction du nutriscore, ayant le plus de points de similarités, notamment la catégorie et les groupes d'aliments, afin d'avoir des suggestions aussi pertinentes que possible.\n",
    "La préparation des données nécessite donc d'extraire les colonnes avec des codes d'identification, les catégories d'aliments, les différentes évalutions nutritives dont le nutriscore, ainsi que les données nutritives qui pourront éventuellement être utilisée dans des analyses de régimes."
   ]
  },
  {
   "cell_type": "markdown",
   "id": "5a867ae8-785d-4516-8153-3787807900e5",
   "metadata": {},
   "source": [
    "# Import librairies"
   ]
  },
  {
   "cell_type": "code",
   "execution_count": 2,
   "id": "7929e9e3-0216-4b51-a0f4-a00c1c14351c",
   "metadata": {},
   "outputs": [],
   "source": [
    "# Librairies standards\n",
    "import pandas as pd\n",
    "import numpy as np\n",
    "import os\n",
    "import sys\n",
    "import tqdm as tqdm\n",
    "import glob\n",
    "import string\n",
    "import matplotlib.pyplot as plt\n",
    "from scipy.stats import rankdata\n",
    "import warnings\n",
    "from pandas_profiling import ProfileReport\n",
    "from sklearn.impute import KNNImputer\n",
    "warnings.filterwarnings('ignore')"
   ]
  },
  {
   "cell_type": "markdown",
   "id": "b882d73f-fd40-4688-a1c5-adede31e6095",
   "metadata": {},
   "source": [
    "# Telechargements donnees"
   ]
  },
  {
   "cell_type": "code",
   "execution_count": 3,
   "id": "20c4de12-ea0f-4816-9b3d-560cc940987e",
   "metadata": {},
   "outputs": [
    {
     "name": "stdout",
     "output_type": "stream",
     "text": [
      "<class 'pandas.core.frame.DataFrame'>\n",
      "RangeIndex: 9937 entries, 0 to 9936\n",
      "Columns: 174 entries, code to carnitine_100g\n",
      "dtypes: float64(123), int64(3), object(48)\n",
      "memory usage: 13.2+ MB\n"
     ]
    }
   ],
   "source": [
    "data=pd.read_csv(\"../../data/sante/openfoodfacts_search.csv\")\n",
    "data.info()"
   ]
  },
  {
   "cell_type": "markdown",
   "id": "cdb03d36-b2e4-4d1b-98bb-b7ae97b5beb4",
   "metadata": {},
   "source": [
    "# Data format"
   ]
  },
  {
   "cell_type": "code",
   "execution_count": 4,
   "id": "3511a603-a5f0-4881-a39d-55e750191046",
   "metadata": {},
   "outputs": [
    {
     "name": "stdout",
     "output_type": "stream",
     "text": [
      "<class 'pandas.core.frame.DataFrame'>\n",
      "RangeIndex: 9937 entries, 0 to 9936\n",
      "Columns: 174 entries, code to carnitine_100g\n",
      "dtypes: float64(123), int64(3), object(48)\n",
      "memory usage: 13.2+ MB\n"
     ]
    }
   ],
   "source": [
    "data.info()"
   ]
  },
  {
   "cell_type": "code",
   "execution_count": 8,
   "id": "74e335c5-455c-4f95-a24e-a7e151730e07",
   "metadata": {},
   "outputs": [
    {
     "data": {
      "text/plain": [
       "0"
      ]
     },
     "execution_count": 8,
     "metadata": {},
     "output_type": "execute_result"
    }
   ],
   "source": [
    "data.duplicated().sum()"
   ]
  },
  {
   "cell_type": "markdown",
   "id": "f20da224-9ae1-4b8d-9101-16620b839c7b",
   "metadata": {},
   "source": [
    "Les données n'ont pas de lignes répétées."
   ]
  },
  {
   "cell_type": "code",
   "execution_count": 6,
   "id": "4d65f48f-7bd0-4c47-91fb-fc0f437435c7",
   "metadata": {},
   "outputs": [
    {
     "data": {
      "text/plain": [
       "code                     0\n",
       "url                      0\n",
       "creator                  0\n",
       "created_t                0\n",
       "last_modified_t          0\n",
       "                      ... \n",
       "choline_100g          9935\n",
       "phylloquinone_100g    9937\n",
       "beta-glucan_100g      9936\n",
       "inositol_100g         9935\n",
       "carnitine_100g        9937\n",
       "Length: 174, dtype: int64"
      ]
     },
     "execution_count": 6,
     "metadata": {},
     "output_type": "execute_result"
    }
   ],
   "source": [
    "data.isna().sum()"
   ]
  },
  {
   "cell_type": "markdown",
   "id": "01e5e89a-e969-4c0e-be0a-7f38bf59abe5",
   "metadata": {},
   "source": [
    "On constate que certaines colonnes sont presque entièrement constituées de données manquantes. Que ce soit dû à une mauvaise collecte de données ou des ingrédients particulièrement rares, il faudra filtrer les colonnes qui dépassent un certain seuil de données manquantes."
   ]
  },
  {
   "cell_type": "code",
   "execution_count": 7,
   "id": "92b4b1b6-521b-458b-9086-6efa51d62df9",
   "metadata": {},
   "outputs": [
    {
     "data": {
      "text/plain": [
       "(9937, 56)"
      ]
     },
     "execution_count": 7,
     "metadata": {},
     "output_type": "execute_result"
    }
   ],
   "source": [
    "threshold=0.5\n",
    "data=data.dropna(axis=1,thresh=(data.shape)[0]*threshold)\n",
    "data.shape"
   ]
  },
  {
   "cell_type": "markdown",
   "id": "b0970207-beeb-41ee-a6fe-bf1df98dfafe",
   "metadata": {},
   "source": [
    "# Data cleaning"
   ]
  },
  {
   "cell_type": "code",
   "execution_count": 6,
   "id": "47a469fd-20fc-4f9b-ae39-c7f7e57c23f4",
   "metadata": {},
   "outputs": [
    {
     "name": "stdout",
     "output_type": "stream",
     "text": [
      "additives_n                  279\n",
      "nutriscore_score            2125\n",
      "energy-kcal_100g            3355\n",
      "energy_100g                 1704\n",
      "fat_100g                    1686\n",
      "                            ... \n",
      "pnns_groups_2_fruits           0\n",
      "pnns_groups_2_legumes          0\n",
      "pnns_groups_2_pastries         0\n",
      "pnns_groups_2_unknown          0\n",
      "pnns_groups_2_vegetables       0\n",
      "Length: 68, dtype: int64\n",
      "<class 'pandas.core.frame.DataFrame'>\n",
      "RangeIndex: 9937 entries, 0 to 9936\n",
      "Data columns (total 83 columns):\n",
      " #   Column                                          Non-Null Count  Dtype  \n",
      "---  ------                                          --------------  -----  \n",
      " 0   code                                            9937 non-null   int64  \n",
      " 1   product_name                                    9915 non-null   object \n",
      " 2   generic_name                                    5612 non-null   object \n",
      " 3   pnns_groups_1                                   9397 non-null   object \n",
      " 4   pnns_groups_2                                   9937 non-null   object \n",
      " 5   additives_n                                     9937 non-null   float64\n",
      " 6   packaging_tags                                  9818 non-null   object \n",
      " 7   brands_tags                                     9885 non-null   object \n",
      " 8   categories_tags                                 9887 non-null   object \n",
      " 9   origins_tags                                    9937 non-null   object \n",
      " 10  manufacturing_places_tags                       9937 non-null   object \n",
      " 11  labels_tags                                     8827 non-null   object \n",
      " 12  emb_codes_tags                                  6119 non-null   object \n",
      " 13  cities_tags                                     5838 non-null   object \n",
      " 14  allergens_tags                                  5574 non-null   object \n",
      " 15  nutriscore_score                                9937 non-null   float64\n",
      " 16  energy-kcal_100g                                9937 non-null   float64\n",
      " 17  energy_100g                                     9937 non-null   float64\n",
      " 18  fat_100g                                        9937 non-null   float64\n",
      " 19  saturated-fat_100g                              9937 non-null   float64\n",
      " 20  carbohydrates_100g                              9937 non-null   float64\n",
      " 21  sugars_100g                                     9937 non-null   float64\n",
      " 22  proteins_100g                                   9937 non-null   float64\n",
      " 23  salt_100g                                       9937 non-null   float64\n",
      " 24  sodium_100g                                     9937 non-null   float64\n",
      " 25  nutrition-score-fr_100g                         9937 non-null   float64\n",
      " 26  provided_nutriscore                             9937 non-null   int64  \n",
      " 27  pnns_groups_1_Beverages                         9937 non-null   float64\n",
      " 28  pnns_groups_1_Cereals and potatoes              9937 non-null   float64\n",
      " 29  pnns_groups_1_Composite foods                   9937 non-null   float64\n",
      " 30  pnns_groups_1_Fat and sauces                    9937 non-null   float64\n",
      " 31  pnns_groups_1_Fish Meat Eggs                    9937 non-null   float64\n",
      " 32  pnns_groups_1_Fruits and vegetables             9937 non-null   float64\n",
      " 33  pnns_groups_1_Milk and dairy products           9937 non-null   float64\n",
      " 34  pnns_groups_1_Salty snacks                      9937 non-null   float64\n",
      " 35  pnns_groups_1_Sugary snacks                     9937 non-null   float64\n",
      " 36  pnns_groups_1_cereals-and-potatoes              9937 non-null   float64\n",
      " 37  pnns_groups_1_fruits-and-vegetables             9937 non-null   float64\n",
      " 38  pnns_groups_1_sugary-snacks                     9937 non-null   float64\n",
      " 39  pnns_groups_1_unknown                           9937 non-null   float64\n",
      " 40  pnns_groups_2_Alcoholic beverages               9937 non-null   float64\n",
      " 41  pnns_groups_2_Appetizers                        9937 non-null   float64\n",
      " 42  pnns_groups_2_Artificially sweetened beverages  9937 non-null   float64\n",
      " 43  pnns_groups_2_Biscuits and cakes                9937 non-null   float64\n",
      " 44  pnns_groups_2_Bread                             9937 non-null   float64\n",
      " 45  pnns_groups_2_Breakfast cereals                 9937 non-null   float64\n",
      " 46  pnns_groups_2_Cereals                           9937 non-null   float64\n",
      " 47  pnns_groups_2_Cheese                            9937 non-null   float64\n",
      " 48  pnns_groups_2_Chocolate products                9937 non-null   float64\n",
      " 49  pnns_groups_2_Dairy desserts                    9937 non-null   float64\n",
      " 50  pnns_groups_2_Dressings and sauces              9937 non-null   float64\n",
      " 51  pnns_groups_2_Dried fruits                      9937 non-null   float64\n",
      " 52  pnns_groups_2_Eggs                              9937 non-null   float64\n",
      " 53  pnns_groups_2_Fats                              9937 non-null   float64\n",
      " 54  pnns_groups_2_Fish and seafood                  9937 non-null   float64\n",
      " 55  pnns_groups_2_Fruit juices                      9937 non-null   float64\n",
      " 56  pnns_groups_2_Fruit nectars                     9937 non-null   float64\n",
      " 57  pnns_groups_2_Fruits                            9937 non-null   float64\n",
      " 58  pnns_groups_2_Ice cream                         9937 non-null   float64\n",
      " 59  pnns_groups_2_Legumes                           9937 non-null   float64\n",
      " 60  pnns_groups_2_Meat                              9937 non-null   float64\n",
      " 61  pnns_groups_2_Milk and yogurt                   9937 non-null   float64\n",
      " 62  pnns_groups_2_Nuts                              9937 non-null   float64\n",
      " 63  pnns_groups_2_Offals                            9937 non-null   float64\n",
      " 64  pnns_groups_2_One-dish meals                    9937 non-null   float64\n",
      " 65  pnns_groups_2_Pizza pies and quiche             9937 non-null   float64\n",
      " 66  pnns_groups_2_Pizza pies and quiches            9937 non-null   float64\n",
      " 67  pnns_groups_2_Plant-based milk substitutes      9937 non-null   float64\n",
      " 68  pnns_groups_2_Potatoes                          9937 non-null   float64\n",
      " 69  pnns_groups_2_Processed meat                    9937 non-null   float64\n",
      " 70  pnns_groups_2_Salty and fatty products          9937 non-null   float64\n",
      " 71  pnns_groups_2_Sandwiches                        9937 non-null   float64\n",
      " 72  pnns_groups_2_Soups                             9937 non-null   float64\n",
      " 73  pnns_groups_2_Sweetened beverages               9937 non-null   float64\n",
      " 74  pnns_groups_2_Sweets                            9937 non-null   float64\n",
      " 75  pnns_groups_2_Unsweetened beverages             9937 non-null   float64\n",
      " 76  pnns_groups_2_Vegetables                        9937 non-null   float64\n",
      " 77  pnns_groups_2_Waters and flavored waters        9937 non-null   float64\n",
      " 78  pnns_groups_2_fruits                            9937 non-null   float64\n",
      " 79  pnns_groups_2_legumes                           9937 non-null   float64\n",
      " 80  pnns_groups_2_pastries                          9937 non-null   float64\n",
      " 81  pnns_groups_2_unknown                           9937 non-null   float64\n",
      " 82  pnns_groups_2_vegetables                        9937 non-null   float64\n",
      "dtypes: float64(68), int64(2), object(13)\n",
      "memory usage: 6.3+ MB\n"
     ]
    }
   ],
   "source": [
    "def cleaning_data(data,threshold=0.5):\n",
    "    \"\"\"\n",
    "    Fonction qui prépare automatiquement une dataframe avec des données utilisables et \n",
    "    des colonnes spécifiques, ainsi qu'en ajoutant quelques nouveaux\n",
    "    features en partant d'une dataframe brute contenant des données manquantes.\n",
    "    \"\"\"\n",
    "    # Filtration des colonnes constituees de donnees manquantes au-dessus d'un certain seuil defini par threshold\n",
    "    data=data.dropna(axis=1,thresh=(data.shape)[0]*threshold)\n",
    "    \n",
    "    # Selection des colonnes interessantes\n",
    "    clean_data=data[[\"code\",\"product_name\",\"generic_name\",\"pnns_groups_1\",\"pnns_groups_2\",\"additives_n\"]]\n",
    "    for a in data.columns:\n",
    "        if \"100g\" in a:\n",
    "            clean_data[a]=data[a]\n",
    "        if \"tags\" in a:\n",
    "            clean_data[a]=data[a]\n",
    "        if \"_score\" in a:\n",
    "            clean_data[a]=data[a]\n",
    "    \n",
    "    # Creation d'une nouvelle colonne indiquant si les nutriscore ont ete donnees ou sont absentes\n",
    "    clean_data[\"provided_nutriscore\"]=clean_data[\"nutriscore_score\"].isna().astype(int).map({0:1,1:0})\n",
    "    \n",
    "    # Creation de variables dummies pour des colonnes contenants des donnees categoriques.\n",
    "    dummies=pd.get_dummies(clean_data[[\"pnns_groups_1\",\"pnns_groups_2\"]])\n",
    "    clean_data[dummies.columns]=dummies\n",
    "    \n",
    "    \n",
    "    # Imputation de donnees manquantes par knn des colonnes numeriques.\n",
    "    quant_columns=[\"additives_n\",\"nutriscore_score\",\"energy-kcal_100g\",\"energy_100g\",\"fat_100g\",\"saturated-fat_100g\",\"carbohydrates_100g\",\n",
    "                       \"sugars_100g\",\"proteins_100g\",\"salt_100g\",\"sodium_100g\",\"nutrition-score-fr_100g\"] + list(dummies.columns)\n",
    "    quant_data=clean_data[quant_columns]\n",
    "    print(quant_data.isna().sum())\n",
    "    imp=KNNImputer()\n",
    "    quant_data=pd.DataFrame(imp.fit_transform(quant_data),columns=quant_columns)\n",
    "    for a in quant_columns:\n",
    "        clean_data[a]=quant_data[a]\n",
    "    \n",
    "    clean_data[\"additives_n\"]=clean_data[\"additives_n\"].round()\n",
    "        \n",
    "        \n",
    "    return clean_data\n",
    "\n",
    "\n",
    "clean_data=cleaning_data(data,threshold=0.5)\n",
    "clean_data.info()"
   ]
  },
  {
   "cell_type": "markdown",
   "id": "b577a241-3b2e-446c-ab5a-d9b4a7c7b93e",
   "metadata": {},
   "source": [
    "# Saved data"
   ]
  },
  {
   "cell_type": "markdown",
   "id": "48b18151-91a2-446d-aea1-9baa78665ca4",
   "metadata": {},
   "source": [
    "Sauvegarde de la nouvelle base cleanee en format pickle (serialise)"
   ]
  },
  {
   "cell_type": "code",
   "execution_count": 114,
   "id": "702392ec-0b25-4301-b5ca-dc56a78431e9",
   "metadata": {},
   "outputs": [],
   "source": [
    "with open(\"cleaned_data.pkl\",\"wb\") as f:\n",
    "    pickle.dump(clean_data,f)"
   ]
  }
 ],
 "metadata": {
  "kernelspec": {
   "display_name": "Python 3",
   "language": "python",
   "name": "python3"
  },
  "language_info": {
   "codemirror_mode": {
    "name": "ipython",
    "version": 3
   },
   "file_extension": ".py",
   "mimetype": "text/x-python",
   "name": "python",
   "nbconvert_exporter": "python",
   "pygments_lexer": "ipython3",
   "version": "3.7.6"
  }
 },
 "nbformat": 4,
 "nbformat_minor": 5
}
