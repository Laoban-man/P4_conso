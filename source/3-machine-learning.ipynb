{
 "cells": [
  {
   "cell_type": "markdown",
   "id": "4d0c4d20-cbb9-48eb-945e-57ab0ebadb4d",
   "metadata": {},
   "source": [
    "# Presentation du cas"
   ]
  },
  {
   "cell_type": "markdown",
   "id": "496fc774-9695-4ea6-b924-875da5ed0f38",
   "metadata": {},
   "source": [
    "L'objectif du cas est de prédire les émissions de CO2 et la consommation totale d’énergie de bâtiments absentes actuellement.\n",
    "\n",
    "Les contraintes proposees sont les caracteristiques des batiments (taille et usage des bâtiments, mention de travaux récents, date de construction..)\n",
    "\n",
    "Les donnees d'entrainement et de test utilisent des releves faits en 2015 et 2016.\n",
    "\n",
    "Les bases de donnees sont composees de deux types de formats:\n",
    "- JSON: les donnees descriptives qui renseignent les donnes brutes en format csv.\n",
    "- CSV: les donnees brutes qui serviront a l'analyse exploratoire, au cleaning ainsi qu'a la modelisation finale.\n",
    "\n",
    "La derniere partie consiste a creer des modeles de prediction, optimiser les hyper parametres et selectionner le meilleur modele."
   ]
  },
  {
   "cell_type": "markdown",
   "id": "6fe671e4-dc08-4f5d-a44e-5b153cfee134",
   "metadata": {},
   "source": [
    "## Importations des librairies"
   ]
  },
  {
   "cell_type": "code",
   "execution_count": 19,
   "id": "31aa9d87-ffb9-4cf5-9cf0-dc71aa9f96ee",
   "metadata": {},
   "outputs": [],
   "source": [
    "# Standard libraries\n",
    "import pandas as pd\n",
    "import numpy as np\n",
    "import sys\n",
    "import os\n",
    "import glob\n",
    "import warnings\n",
    "import json\n",
    "import pickle\n",
    "import string\n",
    "from math import sqrt\n",
    "import re\n",
    "\n",
    "# Graphic libraries\n",
    "import matplotlib.pyplot as plt\n",
    "import seaborn as sns\n",
    "\n",
    "# Machine learning libraries\n",
    "from sklearn.linear_model import LinearRegression\n",
    "from sklearn.ensemble import RandomForestRegressor\n",
    "import lightgbm as lgb\n",
    "\n",
    "# Model evaluation libraries\n",
    "from sklearn.metrics import mean_squared_error\n",
    "from sklearn.metrics import mean_absolute_error\n",
    "from sklearn.metrics import r2_score\n"
   ]
  },
  {
   "cell_type": "markdown",
   "id": "58860a87-507b-4be7-8e34-1c21651e4b49",
   "metadata": {},
   "source": [
    "## Telechargements donnees"
   ]
  },
  {
   "cell_type": "code",
   "execution_count": 45,
   "id": "c7d1f2d3-a91d-41ac-94f1-65d7aef054e7",
   "metadata": {},
   "outputs": [],
   "source": [
    "with open(\"train_data.pkl\",\"rb\") as f:\n",
    "    [train_energy_data_x,train_energy_data_y],[train_ghg_data_x,train_ghg_data_y],[knn,mm]=pickle.load(f)\n",
    "    \n",
    "with open(\"test_data.pkl\",\"rb\") as f:\n",
    "    [test_energy_data_x,test_energy_data_y],[test_ghg_data_x,test_ghg_data_y]=pickle.load(f)"
   ]
  },
  {
   "cell_type": "markdown",
   "id": "f29fd50c-34ad-435f-95ab-9fca6caa3866",
   "metadata": {},
   "source": [
    "## Multilinear regression model"
   ]
  },
  {
   "cell_type": "code",
   "execution_count": 3,
   "id": "3f98a7ff-86b4-4542-b416-a0b47a0d811d",
   "metadata": {},
   "outputs": [
    {
     "name": "stdout",
     "output_type": "stream",
     "text": [
      "8620173.642278207\n",
      "0.8007357385367739\n",
      "170061123562195.97\n",
      "-189219545788023.88\n"
     ]
    }
   ],
   "source": [
    "lr1=LinearRegression()\n",
    "lr1.fit(train_energy_data_x,train_energy_data_y)\n",
    "y_train_pred=lr1.predict(train_energy_data_x)\n",
    "print(sqrt(mean_squared_error(train_energy_data_y,y_train_pred)))\n",
    "print(r2_score(train_energy_data_y,y_train_pred))\n",
    "y_test_pred=lr1.predict(test_energy_data_x)\n",
    "print(sqrt(mean_squared_error(test_energy_data_y,y_test_pred)))\n",
    "print(r2_score(test_energy_data_y,y_test_pred))"
   ]
  },
  {
   "cell_type": "code",
   "execution_count": 4,
   "id": "959dcf1e-cc0d-4d2d-982c-32dfc9060412",
   "metadata": {},
   "outputs": [
    {
     "name": "stdout",
     "output_type": "stream",
     "text": [
      "357.7499052258423\n",
      "0.6306786809914446\n",
      "289766720216.53577\n",
      "-1.2223983200798595e+18\n"
     ]
    }
   ],
   "source": [
    "lr2=LinearRegression()\n",
    "lr2.fit(train_ghg_data_x,train_ghg_data_y)\n",
    "y_train_pred=lr2.predict(train_ghg_data_x)\n",
    "print(sqrt(mean_squared_error(train_ghg_data_y,y_train_pred)))\n",
    "print(r2_score(train_ghg_data_y,y_train_pred))\n",
    "y_test_pred=lr2.predict(test_ghg_data_x)\n",
    "print(sqrt(mean_squared_error(test_ghg_data_y,y_test_pred)))\n",
    "print(r2_score(test_ghg_data_y,y_test_pred))"
   ]
  },
  {
   "cell_type": "markdown",
   "id": "4a0ec61f-7614-4f59-a0bf-0bcdea58331c",
   "metadata": {},
   "source": [
    "## Random forest model"
   ]
  },
  {
   "cell_type": "code",
   "execution_count": 5,
   "id": "bcb2247e-f238-403a-9192-9b4c68f40cb0",
   "metadata": {},
   "outputs": [
    {
     "name": "stderr",
     "output_type": "stream",
     "text": [
      "/home/hysterio/.pyenv/versions/3.7.6/envs/vivadata/lib/python3.7/site-packages/ipykernel_launcher.py:2: DataConversionWarning: A column-vector y was passed when a 1d array was expected. Please change the shape of y to (n_samples,), for example using ravel().\n",
      "  \n"
     ]
    },
    {
     "name": "stdout",
     "output_type": "stream",
     "text": [
      "4669682.977995387\n",
      "0.9415247374265059\n",
      "4172516.031371131\n",
      "0.8860926009107973\n"
     ]
    }
   ],
   "source": [
    "rf1=RandomForestRegressor()\n",
    "rf1.fit(train_energy_data_x,train_energy_data_y)\n",
    "y_train_pred=rf1.predict(train_energy_data_x)\n",
    "print(sqrt(mean_squared_error(train_energy_data_y,y_train_pred)))\n",
    "print(r2_score(train_energy_data_y,y_train_pred))\n",
    "y_test_pred=rf1.predict(test_energy_data_x)\n",
    "print(sqrt(mean_squared_error(test_energy_data_y,y_test_pred)))\n",
    "print(r2_score(test_energy_data_y,y_test_pred))"
   ]
  },
  {
   "cell_type": "code",
   "execution_count": 6,
   "id": "8fae098c-8881-445e-97fe-00f28225b985",
   "metadata": {},
   "outputs": [
    {
     "name": "stderr",
     "output_type": "stream",
     "text": [
      "/home/hysterio/.pyenv/versions/3.7.6/envs/vivadata/lib/python3.7/site-packages/ipykernel_launcher.py:2: DataConversionWarning: A column-vector y was passed when a 1d array was expected. Please change the shape of y to (n_samples,), for example using ravel().\n",
      "  \n"
     ]
    },
    {
     "name": "stdout",
     "output_type": "stream",
     "text": [
      "132.78121302754153\n",
      "0.9491233406702717\n",
      "170.12699655281875\n",
      "0.5786313662792602\n"
     ]
    }
   ],
   "source": [
    "rf2=RandomForestRegressor()\n",
    "rf2.fit(train_ghg_data_x,train_ghg_data_y)\n",
    "y_train_pred=rf2.predict(train_ghg_data_x)\n",
    "print(sqrt(mean_squared_error(train_ghg_data_y,y_train_pred)))\n",
    "print(r2_score(train_ghg_data_y,y_train_pred))\n",
    "y_test_pred=rf2.predict(test_ghg_data_x)\n",
    "print(sqrt(mean_squared_error(test_ghg_data_y,y_test_pred)))\n",
    "print(r2_score(test_ghg_data_y,y_test_pred))"
   ]
  },
  {
   "cell_type": "markdown",
   "id": "15991b77-156c-49a8-be03-4fa3bbe8c0f1",
   "metadata": {},
   "source": [
    "## Gradient boosting model"
   ]
  },
  {
   "cell_type": "code",
   "execution_count": 46,
   "id": "d67dbf80-41ea-4dfb-8706-621ab204cc1d",
   "metadata": {
    "tags": []
   },
   "outputs": [
    {
     "name": "stdout",
     "output_type": "stream",
     "text": [
      "10415179.618361998\n",
      "0.7091085786516557\n",
      "7451728.574802683\n",
      "0.6366961813768218\n"
     ]
    }
   ],
   "source": [
    "lgb1=lgb.LGBMRegressor()\n",
    "lgb1.fit(train_energy_data_x,train_energy_data_y)\n",
    "y_train_pred=lgb1.predict(train_energy_data_x)\n",
    "print(sqrt(mean_squared_error(train_energy_data_y,y_train_pred)))\n",
    "print(r2_score(train_energy_data_y,y_train_pred))\n",
    "y_test_pred=lgb1.predict(test_energy_data_x)\n",
    "print(sqrt(mean_squared_error(test_energy_data_y,y_test_pred)))\n",
    "print(r2_score(test_energy_data_y,y_test_pred))"
   ]
  },
  {
   "cell_type": "code",
   "execution_count": 47,
   "id": "603190dd-aa8e-4485-bd05-b1836dbc7fa3",
   "metadata": {},
   "outputs": [
    {
     "name": "stdout",
     "output_type": "stream",
     "text": [
      "285.8157562657128\n",
      "0.7642684800642852\n",
      "219.3757611916516\n",
      "0.2993630851180944\n"
     ]
    }
   ],
   "source": [
    "lgb2=lgb.LGBMRegressor()\n",
    "lgb2.fit(train_ghg_data_x,train_ghg_data_y)\n",
    "y_train_pred=lgb2.predict(train_ghg_data_x)\n",
    "print(sqrt(mean_squared_error(train_ghg_data_y,y_train_pred)))\n",
    "print(r2_score(train_ghg_data_y,y_train_pred))\n",
    "y_test_pred=lgb2.predict(test_ghg_data_x)\n",
    "print(sqrt(mean_squared_error(test_ghg_data_y,y_test_pred)))\n",
    "print(r2_score(test_ghg_data_y,y_test_pred))"
   ]
  },
  {
   "cell_type": "markdown",
   "id": "19021f33-6327-4899-9ce0-e0db7471810e",
   "metadata": {},
   "source": []
  }
 ],
 "metadata": {
  "kernelspec": {
   "display_name": "Python 3",
   "language": "python",
   "name": "python3"
  },
  "language_info": {
   "codemirror_mode": {
    "name": "ipython",
    "version": 3
   },
   "file_extension": ".py",
   "mimetype": "text/x-python",
   "name": "python",
   "nbconvert_exporter": "python",
   "pygments_lexer": "ipython3",
   "version": "3.7.6"
  }
 },
 "nbformat": 4,
 "nbformat_minor": 5
}
